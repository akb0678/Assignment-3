{
 "cells": [
  {
   "cell_type": "code",
   "execution_count": null,
   "id": "b287c6f4",
   "metadata": {},
   "outputs": [],
   "source": [
    "# Write a Python program to reverse a string."
   ]
  },
  {
   "cell_type": "code",
   "execution_count": 1,
   "id": "cf572f43",
   "metadata": {},
   "outputs": [
    {
     "name": "stdout",
     "output_type": "stream",
     "text": [
      "dcba4321\n"
     ]
    }
   ],
   "source": [
    "def string_reverse(str1):\n",
    "    reverse_string =''\n",
    "    index = len(str1)\n",
    "    while index >0 :\n",
    "        reverse_string +=str1[index -1]\n",
    "        index = index - 1\n",
    "    return reverse_string\n",
    "print(string_reverse('1234abcd'))"
   ]
  }
 ],
 "metadata": {
  "kernelspec": {
   "display_name": "Python 3 (ipykernel)",
   "language": "python",
   "name": "python3"
  },
  "language_info": {
   "codemirror_mode": {
    "name": "ipython",
    "version": 3
   },
   "file_extension": ".py",
   "mimetype": "text/x-python",
   "name": "python",
   "nbconvert_exporter": "python",
   "pygments_lexer": "ipython3",
   "version": "3.9.12"
  }
 },
 "nbformat": 4,
 "nbformat_minor": 5
}
